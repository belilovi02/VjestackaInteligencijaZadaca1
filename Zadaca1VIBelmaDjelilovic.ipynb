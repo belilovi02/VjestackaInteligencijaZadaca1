{
 "cells": [
  {
   "cell_type": "code",
   "execution_count": 1,
   "metadata": {},
   "outputs": [
    {
     "data": {
      "text/plain": [
       "'Kako bi se riješio ovaj problem, ACO koristi skup mrava koji simultano istražuju \\nrazličite rute između adresa. Na temelju odluka donesenih od strane mrava, koji \\nbiraju sljedeće adrese uzimajući u obzir koncentraciju feromona i udaljenost, \\nalgoritam s vremenom poboljšava rješenja. Feromoni deponirani na kraćim rutama \\nsignaliziraju da su te rute bolje, pa tako drugi mravi imaju veću vjerojatnost \\nda će ih odabrati. Kroz ponavljanje ovog procesa u više iteracija, algoritam se \\nfokusira na rute koje daju najbolji rezultat, minimizirajući ukupnu udaljenost i \\ntrošak dostave, čime se postiže optimalan raspored za dostavu paketa. '"
      ]
     },
     "execution_count": 1,
     "metadata": {},
     "output_type": "execute_result"
    }
   ],
   "source": [
    "\"\"\" Cilj ovog zadatka je primijeniti algoritam kolonije mrava \n",
    "(Ant Colony Optimization - ACO) za rješavanje problema optimizacije \n",
    "rute dostave paketa. U ovom kontekstu, cilj je pronaći najkraću moguću \n",
    "rutu koja će omogućiti dostavljaču da posjeti sve zadane adrese u što \n",
    "kraćem vremenu ili s najmanjim troškom. S obzirom na to da svaka dostava\n",
    "može biti povezana s različitim troškovima (kao što su udaljenost, vrijeme ili gorivo)\n",
    " \"\"\"\n",
    "\n",
    "\"\"\"Kako bi se riješio ovaj problem, ACO koristi skup mrava koji simultano istražuju \n",
    "različite rute između adresa. Na temelju odluka donesenih od strane mrava, koji \n",
    "biraju sljedeće adrese uzimajući u obzir koncentraciju feromona i udaljenost, \n",
    "algoritam s vremenom poboljšava rješenja. Feromoni deponirani na kraćim rutama \n",
    "signaliziraju da su te rute bolje, pa tako drugi mravi imaju veću vjerojatnost \n",
    "da će ih odabrati. Kroz ponavljanje ovog procesa u više iteracija, algoritam se \n",
    "fokusira na rute koje daju najbolji rezultat, minimizirajući ukupnu udaljenost i \n",
    "trošak dostave, čime se postiže optimalan raspored za dostavu paketa. \"\"\"\n",
    "\n"
   ]
  },
  {
   "cell_type": "code",
   "execution_count": 2,
   "metadata": {},
   "outputs": [],
   "source": [
    "import random\n",
    "import numpy as np"
   ]
  },
  {
   "cell_type": "code",
   "execution_count": 3,
   "metadata": {},
   "outputs": [],
   "source": [
    "\n",
    "# Parametri algoritma\n",
    "num_ants = 20           # Broj mrava\n",
    "num_iterations = 100    # Broj iteracija\n",
    "alpha = 1               # Utjecaj feromona na izbor sljedeće adrese\n",
    "beta = 2                # Utjecaj udaljenosti na izbor sljedeće adrese\n",
    "rho = 0.5               # Brzina isparavanja feromona\n",
    "q = 100                 # Količina feromona koju mravi deponiraju\n",
    "\n",
    "# Inicijalizacija adresa (npr. 5 lokacija u gradu)\n",
    "addresses = np.array([[0, 0], [1, 2], [2, 4], [4, 4], [5, 1]])"
   ]
  },
  {
   "cell_type": "code",
   "execution_count": 4,
   "metadata": {},
   "outputs": [],
   "source": [
    "# Funkcija za izračun udaljenosti između dviju adresa\n",
    "def calculate_distance(address1, address2):\n",
    "    return np.linalg.norm(address1 - address2)"
   ]
  },
  {
   "cell_type": "code",
   "execution_count": 5,
   "metadata": {},
   "outputs": [],
   "source": [
    "# Kreiranje matrice udaljenosti između adresa\n",
    "distances = np.zeros((len(addresses), len(addresses)))\n",
    "for i in range(len(addresses)):\n",
    "    for j in range(len(addresses)):\n",
    "        if i != j:\n",
    "            distances[i][j] = calculate_distance(addresses[i], addresses[j])\n"
   ]
  },
  {
   "cell_type": "code",
   "execution_count": 6,
   "metadata": {},
   "outputs": [],
   "source": [
    "# Inicijalizacija matrice feromona (početno postavljamo feromone na malu vrijednost)\n",
    "pheromones = np.ones_like(distances) * 0.1"
   ]
  },
  {
   "cell_type": "code",
   "execution_count": 7,
   "metadata": {},
   "outputs": [],
   "source": [
    "# Funkcija za odabir sljedeće adrese temeljem feromona i udaljenosti\n",
    "def select_next_address(current_address, visited_addresses):\n",
    "    probabilities = []\n",
    "    total_pheromone = 0\n",
    "\n",
    "    # Računanje vjerovatnoće za svaku adresu temeljem feromona i udaljenosti\n",
    "    for i in range(len(addresses)):\n",
    "        if i not in visited_addresses:\n",
    "            pheromone = pheromones[current_address][i] ** alpha    # Feromon na adresi\n",
    "            distance = distances[current_address][i] ** (-beta)    # Inverzna udaljenost\n",
    "            probability = pheromone * distance\n",
    "            probabilities.append(probability)\n",
    "            total_pheromone += probability\n",
    "        else:\n",
    "            probabilities.append(0)\n",
    "\n",
    "    # Normalizacija vjerovatnoća\n",
    "    probabilities = [p / total_pheromone for p in probabilities]\n",
    "    # Odabir sljedeće adrese temeljem normaliziranih vjerovatnoća\n",
    "    next_address = np.random.choice(range(len(addresses)), p=probabilities)\n",
    "    return next_address\n"
   ]
  },
  {
   "cell_type": "code",
   "execution_count": 8,
   "metadata": {},
   "outputs": [],
   "source": [
    "#algoritam kolonije mrava za optimizaciju rute dostave\n",
    "def ant_colony_optimization():\n",
    "    global pheromones  # Deklaracija feromona kao globalne varijable\n",
    "    best_route = None\n",
    "    best_distance = float('inf')\n",
    "\n",
    "    # Iteracije koje simuliraju putovanja mrava\n",
    "    for iteration in range(num_iterations):\n",
    "        all_routes = []\n",
    "        all_distances = []\n",
    "\n",
    "        # Svaki mrav kreće na svoje putovanje\n",
    "        for ant in range(num_ants):\n",
    "            route = [random.randint(0, len(addresses)-1)]  # Početna adresa (random)\n",
    "            visited_addresses = set(route)\n",
    "\n",
    "            # Putovanje mrava - odabir sljedeće adrese dok ne posjeti sve adrese\n",
    "            for _ in range(len(addresses) - 1):\n",
    "                current_address = route[-1]\n",
    "                next_address = select_next_address(current_address, visited_addresses)\n",
    "                route.append(next_address)\n",
    "                visited_addresses.add(next_address)\n",
    "\n",
    "            # Izračun ukupne udaljenosti rute mrava\n",
    "            total_distance = sum(distances[route[i], route[i+1]] for i in range(len(route) - 1))\n",
    "            all_routes.append(route)\n",
    "            all_distances.append(total_distance)\n",
    "\n",
    "            # Ažuriranje najbolje rute (ako je trenutna ruta bolja)\n",
    "            if total_distance < best_distance:\n",
    "                best_distance = total_distance\n",
    "                best_route = route\n",
    "\n",
    "        # Isparavanje feromona (smanjenje svih vrijednosti feromona)\n",
    "        pheromones *= (1 - rho)\n",
    "\n",
    "        # Deponovanje feromona na staze koje su mravi prošli\n",
    "        for i in range(num_ants):\n",
    "            for j in range(len(all_routes[i]) - 1):\n",
    "                pheromones[all_routes[i][j], all_routes[i][j + 1]] += q / all_distances[i]\n",
    "\n",
    "    return best_route, best_distance"
   ]
  },
  {
   "cell_type": "code",
   "execution_count": 9,
   "metadata": {},
   "outputs": [],
   "source": [
    "# Pokretanje algoritma kolonije mrava\n",
    "best_route, best_distance = ant_colony_optimization()"
   ]
  },
  {
   "cell_type": "code",
   "execution_count": 10,
   "metadata": {},
   "outputs": [
    {
     "name": "stdout",
     "output_type": "stream",
     "text": [
      "Najbolja ruta: [0, np.int64(1), np.int64(2), np.int64(3), np.int64(4)]\n",
      "Ukupna udaljenost: 9.63441361516796\n"
     ]
    }
   ],
   "source": [
    "# Prikaz najboljeg puta i njegove udaljenosti\n",
    "print(f\"Najbolja ruta: {best_route}\")\n",
    "print(f\"Ukupna udaljenost: {best_distance}\")"
   ]
  }
 ],
 "metadata": {
  "kernelspec": {
   "display_name": "Python 3",
   "language": "python",
   "name": "python3"
  },
  "language_info": {
   "codemirror_mode": {
    "name": "ipython",
    "version": 3
   },
   "file_extension": ".py",
   "mimetype": "text/x-python",
   "name": "python",
   "nbconvert_exporter": "python",
   "pygments_lexer": "ipython3",
   "version": "3.13.0"
  }
 },
 "nbformat": 4,
 "nbformat_minor": 2
}
